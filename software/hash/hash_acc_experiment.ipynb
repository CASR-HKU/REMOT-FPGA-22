{
 "cells": [
  {
   "cell_type": "markdown",
   "id": "08c16479",
   "metadata": {},
   "source": [
    "## Hash-AMAP software simulation \n",
    "\n",
    "This jupyter notebook runs several hash table configuration on shape_6dof dataset, which corresponds to Fig.7f in the paper. It takes a little bit longer to run (several hours).\n",
    "\n",
    "The output results will be saved in the ./hash_result_fifo folder.\n"
   ]
  },
  {
   "cell_type": "code",
   "execution_count": 1,
   "id": "60adf64a",
   "metadata": {},
   "outputs": [],
   "source": [
    "import subprocess\n",
    "import pandas as pd\n",
    "import re\n",
    "import numpy as np"
   ]
  },
  {
   "cell_type": "code",
   "execution_count": 2,
   "id": "aec60196",
   "metadata": {},
   "outputs": [
    {
     "name": "stdout",
     "output_type": "stream",
     "text": [
      "Namespace(folder='./hash_result', input='shapes_6dof.mat', lines=2048, name='2048_2', ways=2)\n",
      "Namespace(folder='./hash_result', input='shapes_6dof.mat', lines=1024, name='1024_1', ways=1)\n",
      "Namespace(folder='./hash_result', input='shapes_6dof.mat', lines=8192, name='8192_2', ways=2)\n",
      "Namespace(folder='./hash_result', input='shapes_6dof.mat', lines=4096, name='4096_1', ways=1)\n",
      "Namespace(folder='./hash_result', input='shapes_6dof.mat', lines=2048, name='2048_1', ways=1)\n",
      "Namespace(folder='./hash_result', input='shapes_6dof.mat', lines=4096, name='4096_4', ways=4)\n",
      "Namespace(folder='./hash_result', input='shapes_6dof.mat', lines=1024, name='1024_2', ways=2)\n",
      "Namespace(folder='./hash_result', input='shapes_6dof.mat', lines=2048, name='2048_4', ways=4)\n",
      "Namespace(folder='./hash_result', input='shapes_6dof.mat', lines=8192, name='8192_1', ways=1)\n",
      "Namespace(folder='./hash_result', input='shapes_6dof.mat', lines=4096, name='4096_2', ways=2)\n",
      "Namespace(folder='./hash_result', input='shapes_6dof.mat', lines=1024, name='1024_4', ways=4)\n",
      "Namespace(folder='./hash_result', input='shapes_6dof.mat', lines=8192, name='8192_4', ways=4)\n"
     ]
    },
    {
     "name": "stderr",
     "output_type": "stream",
     "text": [
      " 95%|█████████▍| 1151080/1212986 [1:54:25<06:36, 155.97it/s] \n",
      " 96%|█████████▌| 1165037/1212986 [1:54:25<03:54, 204.44it/s]>>> \n"
     ]
    },
    {
     "name": "stdout",
     "output_type": "stream",
     "text": [
      "./hash_result/4096_4tkBoxes.mat\n",
      "Name=4096_4, HOTA=0.744813, DETA=0.704144, ASSA=0.789122\n",
      "\n"
     ]
    },
    {
     "name": "stderr",
     "output_type": "stream",
     "text": [
      " 96%|█████████▌| 1161576/1212986 [1:55:25<04:44, 180.51it/s] \n",
      " 94%|█████████▍| 1142140/1212986 [1:55:25<06:55, 170.57it/s]>>> \n"
     ]
    },
    {
     "name": "stdout",
     "output_type": "stream",
     "text": [
      "./hash_result/8192_1tkBoxes.mat\n",
      "Name=8192_1, HOTA=0.743557, DETA=0.703151, ASSA=0.787453\n",
      "\n"
     ]
    },
    {
     "name": "stderr",
     "output_type": "stream",
     "text": [
      " 99%|█████████▉| 1206701/1212986 [2:02:46<00:34, 183.59it/s]  \n",
      ">>> \n",
      " 99%|█████████▉| 1198234/1212986 [2:02:46<04:33, 53.97it/s]]"
     ]
    },
    {
     "name": "stdout",
     "output_type": "stream",
     "text": [
      "./hash_result/1024_4tkBoxes.mat\n",
      "Name=1024_4, HOTA=0.678959, DETA=0.629196, ASSA=0.733370\n",
      "\n"
     ]
    },
    {
     "name": "stderr",
     "output_type": "stream",
     "text": [
      "100%|█████████▉| 1209297/1212986 [2:03:54<00:19, 186.54it/s] \n",
      "100%|█████████▉| 1209316/1212986 [2:03:54<00:19, 185.48it/s]>>> \n"
     ]
    },
    {
     "name": "stdout",
     "output_type": "stream",
     "text": [
      "./hash_result/4096_2tkBoxes.mat\n",
      "Name=4096_2, HOTA=0.741847, DETA=0.700788, ASSA=0.786457\n",
      "\n"
     ]
    },
    {
     "name": "stderr",
     "output_type": "stream",
     "text": [
      " 97%|█████████▋| 1177111/1212986 [2:05:03<03:06, 192.00it/s]  \n",
      ">>> \n",
      " 84%|████████▍ | 1019285/1212986 [2:05:03<11:29, 280.75it/s]"
     ]
    },
    {
     "name": "stdout",
     "output_type": "stream",
     "text": [
      "./hash_result/8192_4tkBoxes.mat\n",
      "Name=8192_4, HOTA=0.744813, DETA=0.704144, ASSA=0.789122\n",
      "\n"
     ]
    },
    {
     "name": "stderr",
     "output_type": "stream",
     "text": [
      " 98%|█████████▊| 1185956/1212986 [2:05:56<02:29, 180.72it/s]  \n",
      ">>> \n"
     ]
    },
    {
     "name": "stdout",
     "output_type": "stream",
     "text": [
      "./hash_result/2048_4tkBoxes.mat\n",
      "Name=2048_4, HOTA=0.721258, DETA=0.679394, ASSA=0.766341\n",
      "\n"
     ]
    },
    {
     "name": "stderr",
     "output_type": "stream",
     "text": [
      " 85%|████████▌ | 1032837/1212986 [2:06:47<11:56, 251.35it/s] \n",
      ">>> \n",
      " 86%|████████▋ | 1046348/1212986 [2:06:47<08:38, 321.29it/s]"
     ]
    },
    {
     "name": "stdout",
     "output_type": "stream",
     "text": [
      "./hash_result/8192_2tkBoxes.mat\n",
      "Name=8192_2, HOTA=0.744813, DETA=0.704144, ASSA=0.789122\n",
      "\n"
     ]
    },
    {
     "name": "stderr",
     "output_type": "stream",
     "text": [
      " 86%|████████▌ | 1043018/1212986 [2:07:43<12:30, 226.45it/s] \n",
      ">>> \n",
      " 99%|█████████▉| 1203278/1212986 [2:07:43<02:14, 72.35it/s]]"
     ]
    },
    {
     "name": "stdout",
     "output_type": "stream",
     "text": [
      "./hash_result/4096_1tkBoxes.mat\n",
      "Name=4096_1, HOTA=0.740791, DETA=0.699694, ASSA=0.785396\n",
      "\n"
     ]
    },
    {
     "name": "stderr",
     "output_type": "stream",
     "text": [
      " 95%|█████████▌| 1152460/1212986 [2:11:55<04:11, 240.52it/s]]\n",
      ">>> \n",
      " 95%|█████████▌| 1152485/1212986 [2:11:55<04:12, 239.25it/s]"
     ]
    },
    {
     "name": "stdout",
     "output_type": "stream",
     "text": [
      "./hash_result/2048_2tkBoxes.mat\n",
      "Name=2048_2, HOTA=0.712486, DETA=0.671739, ASSA=0.756210\n",
      "\n"
     ]
    },
    {
     "name": "stderr",
     "output_type": "stream",
     "text": [
      " 96%|█████████▋| 1169660/1212986 [2:21:47<17:45, 40.65it/s]] \n",
      ">>> \n"
     ]
    },
    {
     "name": "stdout",
     "output_type": "stream",
     "text": [
      "./hash_result/1024_2tkBoxes.mat\n",
      "Name=1024_2, HOTA=0.604581, DETA=0.610774, ASSA=0.599872\n",
      "\n"
     ]
    },
    {
     "name": "stderr",
     "output_type": "stream",
     "text": [
      "100%|██████████| 1212986/1212986 [2:28:07<00:00, 136.48it/s] \n",
      ">>> \n"
     ]
    },
    {
     "name": "stdout",
     "output_type": "stream",
     "text": [
      "./hash_result/1024_1tkBoxes.mat\n",
      "Name=1024_1, HOTA=0.518449, DETA=0.540911, ASSA=0.498055\n",
      "\n",
      "./hash_result/2048_1tkBoxes.mat\n",
      "Name=2048_1, HOTA=0.588544, DETA=0.596993, ASSA=0.581219\n",
      "\n"
     ]
    },
    {
     "name": "stderr",
     "output_type": "stream",
     "text": [
      "\n",
      ">>> \n"
     ]
    }
   ],
   "source": [
    "template = \"python3 -i hash_sw.py  --folder ./hash_result --name {} --ways {} --lines {}\"\n",
    "\n",
    "lines = [1024, 2048, 4096, 8192]\n",
    "ways = [1, 2, 4]\n",
    "\n",
    "args = [[str(l)+'_'+str(w), w, l] for l in lines for w in ways]\n",
    "\n",
    "processes = []\n",
    "\n",
    "for arg in args:\n",
    "    command = template.format(*[str(a) for a in arg])\n",
    "    process = subprocess.Popen(command, shell=True)\n",
    "    processes.append(process)\n",
    "    \n",
    "output = [p.wait() for p in processes]"
   ]
  },
  {
   "cell_type": "code",
   "execution_count": 3,
   "id": "e0679b4d",
   "metadata": {
    "scrolled": true
   },
   "outputs": [
    {
     "data": {
      "text/plain": [
       "{'./hash_result/8192_4tkBoxes.mat': 0.7448131600425051,\n",
       " './hash_result/2048_4tkBoxes.mat': 0.7212580347459826,\n",
       " './hash_result/8192_2tkBoxes.mat': 0.7448131600425051,\n",
       " './hash_result/4096_1tkBoxes.mat': 0.7407909672966339,\n",
       " './hash_result/4096_2tkBoxes.mat': 0.7418474206839083,\n",
       " './hash_result/4096_4tkBoxes.mat': 0.7448131600425051,\n",
       " './hash_result/1024_4tkBoxes.mat': 0.6789591725945816,\n",
       " './hash_result/8192_1tkBoxes.mat': 0.7435565812260342,\n",
       " './hash_result/2048_2tkBoxes.mat': 0.7124856730562863,\n",
       " './hash_result/1024_2tkBoxes.mat': 0.6045810127327386,\n",
       " './hash_result/2048_1tkBoxes.mat': 0.5885443954875736,\n",
       " './hash_result/1024_1tkBoxes.mat': 0.5184490822990694}"
      ]
     },
     "execution_count": 3,
     "metadata": {},
     "output_type": "execute_result"
    }
   ],
   "source": [
    "pd.read_csv(\"./hash_result/result.csv\", header=None, index_col=0, squeeze=True).to_dict()"
   ]
  },
  {
   "cell_type": "code",
   "execution_count": null,
   "id": "4f6f6b55",
   "metadata": {},
   "outputs": [],
   "source": []
  }
 ],
 "metadata": {
  "kernelspec": {
   "display_name": "Python 3 (ipykernel)",
   "language": "python",
   "name": "python3"
  },
  "language_info": {
   "codemirror_mode": {
    "name": "ipython",
    "version": 3
   },
   "file_extension": ".py",
   "mimetype": "text/x-python",
   "name": "python",
   "nbconvert_exporter": "python",
   "pygments_lexer": "ipython3",
   "version": "3.8.10"
  }
 },
 "nbformat": 4,
 "nbformat_minor": 5
}
